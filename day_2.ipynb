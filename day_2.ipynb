{
 "cells": [
  {
   "cell_type": "code",
   "execution_count": 1,
   "id": "66b88d61",
   "metadata": {},
   "outputs": [
    {
     "data": {
      "text/plain": [
       "True"
      ]
     },
     "execution_count": 1,
     "metadata": {},
     "output_type": "execute_result"
    }
   ],
   "source": [
    "import os\n",
    "from openai import OpenAI\n",
    "from dotenv import load_dotenv\n",
    "load_dotenv(override=True)"
   ]
  },
  {
   "cell_type": "code",
   "execution_count": 2,
   "id": "560562c0",
   "metadata": {},
   "outputs": [],
   "source": [
    "DEEPSEEK_BASE_URL = \"https://api.deepseek.com/v1\"\n",
    "deepseek_api_key = os.getenv(\"DEEPSEEK_API_KEY\")"
   ]
  },
  {
   "cell_type": "code",
   "execution_count": null,
   "id": "ec8d3b46",
   "metadata": {},
   "outputs": [],
   "source": [
    "request = \"please come up with a challenging, nuanced question that I can ask a number of LLMs to evaluate their intelligence.\"\n",
    "request += \"answer only with the question, no explanation.\"\n",
    "\n",
    "messages = [{\"role\": \"user\", \"content\": request}]"
   ]
  },
  {
   "cell_type": "code",
   "execution_count": 19,
   "id": "5f2ebfde",
   "metadata": {},
   "outputs": [
    {
     "name": "stdout",
     "output_type": "stream",
     "text": [
      "Q: If the ratio of apples to oranges in a basket is 3:5 and there are 24 oranges, how many apples are there?  \n",
      "A: Let the number of apples be \\(3x\\) and oranges be \\(5x\\). Given \\(5x = 24\\), so \\(x = \\frac{24}{5} = 4.8\\). Thus, apples = \\(3x = 3 \\times 4.8 = 14.4\\). Since the number of fruits must be whole, we round to the nearest whole number: **14 apples**.  \n",
      "\n",
      "Final Answer: **14 apples**.\n"
     ]
    }
   ],
   "source": [
    "\n",
    "import requests\n",
    "\n",
    "url = \"https://api.deepseek.com/v1/chat/completions\"\n",
    "\n",
    "headers = {\n",
    "    \"Authorization\": f\"Bearer {deepseek_api_key}\",\n",
    "    \"Content-Type\": \"application/json\"\n",
    "}\n",
    "\n",
    "messages = [\n",
    "    {\"role\": \"system\", \"content\": (\n",
    "            \"You are a quiz bot that generates 10 Ratio's testing questions, \"\n",
    "            \"and then gives the correct answer only. \"\n",
    "            \"explain with detail and give final answer Format like:\\n\"\n",
    "            \"Q: <question text>\\nA: <answer text>\"\n",
    "        )},\n",
    "    {\"role\": \"user\", \"content\": \"Give me a question and only the answer in this format.\"}\n",
    "]\n",
    "\n",
    "payload = {\n",
    "    \"model\": \"deepseek-chat\",\n",
    "    \"messages\": messages,\n",
    "    \"temperature\": 0.7\n",
    "}\n",
    "\n",
    "response = requests.post(url, headers=headers, json=payload)\n",
    "\n",
    "if response.status_code == 200:\n",
    "    answer = response.json()['choices'][0]['message']['content']\n",
    "    print(answer)\n",
    "else:\n",
    "    print(\"Error:\", response.status_code)\n",
    "    print(response.text)\n",
    "\n",
    "\n",
    "\n",
    "\n"
   ]
  },
  {
   "cell_type": "code",
   "execution_count": null,
   "id": "f9a3a495",
   "metadata": {},
   "outputs": [],
   "source": [
    "\n",
    "import requests\n",
    "\n",
    "url = \"https://api.deepseek.com/v1/chat/completions\"\n",
    "\n",
    "headers = {\n",
    "    \"Authorization\": f\"Bearer {deepseek_api_key}\",\n",
    "    \"Content-Type\": \"application/json\"\n",
    "}\n",
    "\n",
    "messages = [\n",
    "    {\"role\": \"system\", \"content\": (\n",
    "            \"You are a quiz bot that generates 10 Ratio's testing questions, \"\n",
    "            \"and then gives the correct answer only. \"\n",
    "            \"explain and give final answer Format like:\\n\"\n",
    "            \"Q: <question text>\\nA: <answer text>\"\n",
    "        )},\n",
    "    {\"role\": \"user\", \"content\": \"Give me a question and only the answer in this format.\"}\n",
    "]\n",
    "\n",
    "payload = {\n",
    "    \"model\": \"deepseek-chat\",\n",
    "    \"messages\": messages,\n",
    "    \"temperature\": 0.7\n",
    "}\n",
    "\n",
    "response = requests.post(url, headers=headers, json=payload)\n",
    "\n",
    "if response.status_code == 200:\n",
    "    answer = response.json()['choices'][0]['message']['content']\n",
    "    print(answer)\n",
    "else:\n",
    "    print(\"Error:\", response.status_code)\n",
    "    print(response.text)\n",
    "\n",
    "\n",
    "\n",
    "\n"
   ]
  },
  {
   "cell_type": "code",
   "execution_count": 9,
   "id": "883164f3",
   "metadata": {},
   "outputs": [],
   "source": [
    "import requests\n",
    "\n",
    "def query_deepseek_api(question):\n",
    "    url = \"https://api.deepseek.com/v1/chat/completions\"\n",
    "    headers = {\n",
    "        \"Authorization\": f\"Bearer {deepseek_api_key}\",\n",
    "        \"Content-Type\": \"application/json\"\n",
    "    }\n",
    "    data = {\n",
    "        \"model\" : \"deepseek-coder\",\n",
    "        \"messages\" :[{\"role\" : \"user\",\"content\":question}]\n",
    "    }\n",
    "    \n",
    "\n",
    "    response = requests.post(url,headers=headers,json=data)\n",
    "    return response.json()['choices'][0]['message']['content']\n",
    "\n",
    "\n",
    "\n",
    "    "
   ]
  },
  {
   "cell_type": "code",
   "execution_count": 13,
   "id": "1a34ef9f",
   "metadata": {},
   "outputs": [],
   "source": [
    "from IPython.display import Markdown\n",
    "\n",
    "\n",
    "question = \"Explain the difference between bfs and dfs\"\n",
    "\n",
    "competitors = []\n",
    "answers = []\n",
    "\n",
    "messages = [{\"role\":\"user\" , \"content\":question}]\n"
   ]
  },
  {
   "cell_type": "code",
   "execution_count": 17,
   "id": "9651a536",
   "metadata": {},
   "outputs": [
    {
     "name": "stdout",
     "output_type": "stream",
     "text": [
      "['deepseek-chat']\n",
      "[\"Breadth-First Search (BFS) and Depth-First Search (DFS) are two fundamental graph traversal algorithms with distinct approaches and use cases. Here's a breakdown of their key differences:\\n\\n### **1. Order of Traversal**\\n- **BFS** explores nodes **level by level**, visiting all neighbors of the current node before moving deeper.  \\n  - Uses a **queue** (FIFO) to track nodes.\\n  - Example: Traversing a tree level-wise (Level 0 → Level 1 → Level 2, etc.).\\n\\n- **DFS** explores as far as possible along a branch before backtracking.  \\n  - Uses a **stack** (LIFO, either explicitly or via recursion).\\n  - Example: Going deep into a tree (Root → Leftmost child → Leftmost grandchild, etc.) before backtracking.\\n\\n### **2. Data Structures Used**\\n- **BFS** → **Queue** (First-In-First-Out).\\n- **DFS** → **Stack** (Last-In-First-Out, or recursion).\\n\\n### **3. Applications**\\n| **BFS** | **DFS** |\\n|---------|---------|\\n| Shortest path in unweighted graphs | Topological sorting |\\n| Web crawling | Solving puzzles (e.g., mazes) |\\n| Peer-to-peer networks | Detecting cycles in graphs |\\n| Social network friend recommendations | Finding strongly connected components |\\n\\n### **4. Time & Space Complexity**\\n- **Time Complexity**: Both are **O(V + E)** (V = vertices, E = edges) if using an adjacency list.\\n- **Space Complexity**:\\n  - **BFS**: **O(V)** (worst case: stores all nodes at the widest level).\\n  - **DFS**: **O(h)** (where h = max depth, better for deep graphs).\\n\\n### **5. When to Use Which?**\\n- **Use BFS** when:\\n  - You need the shortest path (e.g., GPS navigation).\\n  - The graph is wide but shallow.\\n- **Use DFS** when:\\n  - Memory is limited (DFS uses less space for deep graphs).\\n  - You need to explore all possibilities (e.g., backtracking problems).\\n\\n### **6. Example (Tree Traversal)**\\n```\\n      A\\n    /   \\\\\\n   B     C\\n  / \\\\   / \\\\\\n D   E F   G\\n```\\n- **BFS Order**: A → B → C → D → E → F → G (level-order).\\n- **DFS Order (Preorder)**: A → B → D → E → C → F → G.\\n\\n### **Summary Table**\\n| Feature       | BFS                          | DFS                          |\\n|--------------|-----------------------------|-----------------------------|\\n| **Traversal** | Level-wise (breadth-first)  | Branch-wise (depth-first)   |\\n| **Data Structure** | Queue                     | Stack / Recursion           |\\n| **Optimal for** | Shortest path            | Deep graphs, backtracking   |\\n| **Space Complexity** | O(V) (worse for wide graphs) | O(h) (better for deep trees) |\\n\\nWould you like a code implementation comparison as well?\"]\n"
     ]
    }
   ],
   "source": [
    "print(competitors)\n",
    "print(answers)"
   ]
  },
  {
   "cell_type": "code",
   "execution_count": 16,
   "id": "f9d67ce2",
   "metadata": {},
   "outputs": [
    {
     "data": {
      "text/markdown": [
       "Breadth-First Search (BFS) and Depth-First Search (DFS) are two fundamental graph traversal algorithms with distinct approaches and use cases. Here's a breakdown of their key differences:\n",
       "\n",
       "### **1. Order of Traversal**\n",
       "- **BFS** explores nodes **level by level**, visiting all neighbors of the current node before moving deeper.  \n",
       "  - Uses a **queue** (FIFO) to track nodes.\n",
       "  - Example: Traversing a tree level-wise (Level 0 → Level 1 → Level 2, etc.).\n",
       "\n",
       "- **DFS** explores as far as possible along a branch before backtracking.  \n",
       "  - Uses a **stack** (LIFO, either explicitly or via recursion).\n",
       "  - Example: Going deep into a tree (Root → Leftmost child → Leftmost grandchild, etc.) before backtracking.\n",
       "\n",
       "### **2. Data Structures Used**\n",
       "- **BFS** → **Queue** (First-In-First-Out).\n",
       "- **DFS** → **Stack** (Last-In-First-Out, or recursion).\n",
       "\n",
       "### **3. Applications**\n",
       "| **BFS** | **DFS** |\n",
       "|---------|---------|\n",
       "| Shortest path in unweighted graphs | Topological sorting |\n",
       "| Web crawling | Solving puzzles (e.g., mazes) |\n",
       "| Peer-to-peer networks | Detecting cycles in graphs |\n",
       "| Social network friend recommendations | Finding strongly connected components |\n",
       "\n",
       "### **4. Time & Space Complexity**\n",
       "- **Time Complexity**: Both are **O(V + E)** (V = vertices, E = edges) if using an adjacency list.\n",
       "- **Space Complexity**:\n",
       "  - **BFS**: **O(V)** (worst case: stores all nodes at the widest level).\n",
       "  - **DFS**: **O(h)** (where h = max depth, better for deep graphs).\n",
       "\n",
       "### **5. When to Use Which?**\n",
       "- **Use BFS** when:\n",
       "  - You need the shortest path (e.g., GPS navigation).\n",
       "  - The graph is wide but shallow.\n",
       "- **Use DFS** when:\n",
       "  - Memory is limited (DFS uses less space for deep graphs).\n",
       "  - You need to explore all possibilities (e.g., backtracking problems).\n",
       "\n",
       "### **6. Example (Tree Traversal)**\n",
       "```\n",
       "      A\n",
       "    /   \\\n",
       "   B     C\n",
       "  / \\   / \\\n",
       " D   E F   G\n",
       "```\n",
       "- **BFS Order**: A → B → C → D → E → F → G (level-order).\n",
       "- **DFS Order (Preorder)**: A → B → D → E → C → F → G.\n",
       "\n",
       "### **Summary Table**\n",
       "| Feature       | BFS                          | DFS                          |\n",
       "|--------------|-----------------------------|-----------------------------|\n",
       "| **Traversal** | Level-wise (breadth-first)  | Branch-wise (depth-first)   |\n",
       "| **Data Structure** | Queue                     | Stack / Recursion           |\n",
       "| **Optimal for** | Shortest path            | Deep graphs, backtracking   |\n",
       "| **Space Complexity** | O(V) (worse for wide graphs) | O(h) (better for deep trees) |\n",
       "\n",
       "Would you like a code implementation comparison as well?"
      ],
      "text/plain": [
       "<IPython.core.display.Markdown object>"
      ]
     },
     "metadata": {},
     "output_type": "display_data"
    }
   ],
   "source": [
    "\n",
    "deepseek = OpenAI(api_key=deepseek_api_key,base_url=\"https://api.deepseek.com/v1\")\n",
    "model_name = \"deepseek-chat\"\n",
    "\n",
    "response = deepseek.chat.completions.create(model=model_name,messages=messages)\n",
    "answer = response.choices[0].message.content\n",
    "\n",
    "display(Markdown(answer))\n",
    "competitors.append(model_name)\n",
    "answers.append(answer)"
   ]
  },
  {
   "cell_type": "code",
   "execution_count": null,
   "id": "c667168c",
   "metadata": {},
   "outputs": [],
   "source": []
  },
  {
   "cell_type": "code",
   "execution_count": null,
   "id": "494d793b",
   "metadata": {},
   "outputs": [],
   "source": []
  },
  {
   "cell_type": "code",
   "execution_count": null,
   "id": "b39dd0ea",
   "metadata": {},
   "outputs": [],
   "source": []
  },
  {
   "cell_type": "code",
   "execution_count": null,
   "id": "8956d7d3",
   "metadata": {},
   "outputs": [],
   "source": []
  },
  {
   "cell_type": "code",
   "execution_count": null,
   "id": "d4072000",
   "metadata": {},
   "outputs": [],
   "source": []
  },
  {
   "cell_type": "code",
   "execution_count": null,
   "id": "503fc40f",
   "metadata": {},
   "outputs": [],
   "source": []
  },
  {
   "cell_type": "code",
   "execution_count": null,
   "id": "bc4ed166",
   "metadata": {},
   "outputs": [],
   "source": []
  },
  {
   "cell_type": "code",
   "execution_count": null,
   "id": "2a5f009e",
   "metadata": {},
   "outputs": [],
   "source": []
  },
  {
   "cell_type": "code",
   "execution_count": null,
   "id": "008d6e82",
   "metadata": {},
   "outputs": [],
   "source": []
  },
  {
   "cell_type": "code",
   "execution_count": null,
   "id": "453e6554",
   "metadata": {},
   "outputs": [],
   "source": []
  },
  {
   "cell_type": "code",
   "execution_count": null,
   "id": "dff0f1b6",
   "metadata": {},
   "outputs": [],
   "source": []
  },
  {
   "cell_type": "code",
   "execution_count": null,
   "id": "4139c1b2",
   "metadata": {},
   "outputs": [],
   "source": []
  }
 ],
 "metadata": {
  "kernelspec": {
   "display_name": ".venv",
   "language": "python",
   "name": "python3"
  },
  "language_info": {
   "codemirror_mode": {
    "name": "ipython",
    "version": 3
   },
   "file_extension": ".py",
   "mimetype": "text/x-python",
   "name": "python",
   "nbconvert_exporter": "python",
   "pygments_lexer": "ipython3",
   "version": "3.12.11"
  }
 },
 "nbformat": 4,
 "nbformat_minor": 5
}
