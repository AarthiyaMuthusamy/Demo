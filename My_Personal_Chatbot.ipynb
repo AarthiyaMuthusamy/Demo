{
 "cells": [
  {
   "cell_type": "code",
   "execution_count": 1,
   "id": "79c67813",
   "metadata": {},
   "outputs": [],
   "source": [
    "import os\n",
    "from dotenv import load_dotenv\n",
    "from openai import OpenAI\n",
    "from PyPDF2 import PdfReader\n",
    "import gradio as gr"
   ]
  },
  {
   "cell_type": "code",
   "execution_count": 2,
   "id": "57395557",
   "metadata": {},
   "outputs": [
    {
     "data": {
      "text/plain": [
       "True"
      ]
     },
     "execution_count": 2,
     "metadata": {},
     "output_type": "execute_result"
    }
   ],
   "source": [
    "load_dotenv(override=True)\n"
   ]
  },
  {
   "cell_type": "code",
   "execution_count": 3,
   "id": "88017531",
   "metadata": {},
   "outputs": [],
   "source": [
    "DEEPSEEK_BASE_URL = \"https://api.deepseek.com/v1\"\n",
    "deepseek_api_key = os.getenv(\"DEEPSEEK_API_KEY\")"
   ]
  },
  {
   "cell_type": "code",
   "execution_count": 4,
   "id": "bdc59e46",
   "metadata": {},
   "outputs": [],
   "source": [
    "\n",
    "from pydoc import text\n",
    "\n",
    "reader = PdfReader(\"C://Users/Aathiya/projects/agents/Demo/me/Aarthiya_Resume_Software_Developer.pdf\")\n",
    "\n",
    "linkedln = \"\"\n",
    "for page in reader.pages:\n",
    "    text = page.extract_text()\n",
    "    if text:\n",
    "        linkedln += text\n",
    "\n"
   ]
  },
  {
   "cell_type": "code",
   "execution_count": 5,
   "id": "a4ba3712",
   "metadata": {},
   "outputs": [
    {
     "data": {
      "text/markdown": [
       "                                                                                          AARTHIYA  M  \n",
       "                                                                 +91  9345366672     Chennai, TamilNadu  \n",
       "                                     aarthiyam1510@gmail.com      Linkedln-aarthiyam       Github-aarthiya  \n",
       "OBJECTIVE  \n",
       "Passionate software developer with strong skills in Java and front -end web development.  Eager to build \n",
       "innovative,  efficient solutions while contributing to team success and continuous improvement.  \n",
       " \n",
       "EXPERIENCE  \n",
       "Associate Engineer – Development                                                                                                                Dec 2024 – May 2025  \n",
       "Aptean India Pvt Ltd                                                                                                                                                                              Madurai  \n",
       "• Collaborated in developing and maintaining enterprise software products using Java and SQL.  Performed \n",
       "unit testing and API validations using tools like Postman.  \n",
       "• Gained hands -on experience with bug tracking, version control, and code reviews.  Assisted in debugging \n",
       "and resolving backend issues in customer -facing applications.  \n",
       " \n",
       "SKILLS  \n",
       "Technical Skills          Java, Python, SQL, HTML5, CSS3, JavaScript, .Net,  REST APIs, MongoDB  \n",
       "Frameworks                Node.js, React.js, MongoDB Atlas, Firebase, Fl ask, Render (Cloud Hosting)  \n",
       "Concepts                      Object-Oriented Programming (OOP), Databases and  Querying,  API Integration,  Open AI, \n",
       "                                            Agentic AI , LLMs, Full Stack  Development , Web Development,  Unit Testing, Linux \n",
       "IDE &Tools                    PyCharm, Eclipse, Vs Code, Figma, Wix , MATLAB, POSTMAN , Android Studio  \n",
       "Version control           Git, GitHub \n",
       "Soft Skills                      Leadership, Teamwork, Organization, Problem -solving, Adaptability        \n",
       "PROJECTS  \n",
       "AI – Enabled Phishing Detection -Intelligent Web Security System : Developed an AI -powered phishing detection \n",
       "system using Python and Machine Learning  to analyse URL patterns and classify malicious websites with 90% accuracy  \n",
       "Designed for integration into browser extensions or web applications to enhance digital security . Check it Here \n",
       "Ambulance Tracking with Patient Monitoring System – Real-Time IoT Solution:  Built an integrated system using \n",
       "Arduino, IoT sensors, Java, and XML  to track real -time ambulance location and continuously monitor patient vitals. \n",
       "Designed to transmit live updates to the nearest hospital, enabling faster emergency response and improved patient care \n",
       "during transit . Check it Here  \n",
       "Student Tracking App – Android-Based Academic Monitoring System:  Developed a mobile application using \n",
       "Android Studio, Java, XML, and Firebase  to enable students, parents, and professors to monitor academic performance. \n",
       "Features include real -time updates on attendance, grades, and progress tracking, fostering better communication and \n",
       "student engagement.  \n",
       "EDUCATION  \n",
       "B.Tech - INFORMATION TECHNOLOGY , CGPA - 8.48                                                                                                  2020 - 2024  \n",
       "THIAGARAJAR COLLEGE OF ENGINEERING                                                                                                                          MADURAI  \n",
       " \n",
       "CERTIFICATIONS  \n",
       "Data Analytics  – Cisco Networking  Academy , Java Programming , SQL Fundamentals  – Solo Learn, Basics of \n",
       "Cloud Computing – IBM via edX , Bootstrap for Web Development , Linux Basics – IIT Bombay (Spoken Tutorial ). \n",
       " \n",
       "EXTRA -CURRICULAR ACTIVITIES  \n",
       "• TRAINING: AR/VR Training - 1week (2022 -2023)  \n",
       "• COMPETITIONS: SIH 2022: Shortlisted team for Smart India Hackathon.  TechUtsav -2022: Participated in  \n",
       "college event. TCE Coders Club Coding Contest : Participated in coding events.  "
      ],
      "text/plain": [
       "<IPython.core.display.Markdown object>"
      ]
     },
     "metadata": {},
     "output_type": "display_data"
    }
   ],
   "source": [
    "from IPython.display import Markdown\n",
    "display(Markdown(linkedln))"
   ]
  },
  {
   "cell_type": "code",
   "execution_count": 6,
   "id": "54b57c68",
   "metadata": {},
   "outputs": [],
   "source": [
    "with open(\"C://Users/Aathiya/projects/agents/Demo/me/summary.txt\", \"r\",encoding=\"utf-8\") as f:\n",
    "    summary = f.read()"
   ]
  },
  {
   "cell_type": "code",
   "execution_count": 7,
   "id": "129efdbf",
   "metadata": {},
   "outputs": [],
   "source": [
    "name = \"Aarthiya M\""
   ]
  },
  {
   "cell_type": "markdown",
   "id": "f1bf364f",
   "metadata": {},
   "source": []
  },
  {
   "cell_type": "code",
   "execution_count": 8,
   "id": "8918eaf6",
   "metadata": {},
   "outputs": [],
   "source": [
    "system_prompt = f\"You are acting as {name}. You are answering questions on {name}'s website,\\\n",
    "        Paticularly questions related to {name}'s career, background , skills and experience.\\\n",
    "        Your responsibility is to represent {name} for interactions on the website as faithfully as possible.\\\n",
    "        You are given summary of {name}'s background and LinkedIn profile which you can use to answer questions.\\\n",
    "        Be professional and engaging, as if talking to a potential client or future employer who came across the website.\\\n",
    "        If you don't know the answer, say so.\"\n",
    "\n",
    "\n",
    "system_prompt += f\"\\n\\n## Summary:\\n{summary}\\n\\n## LinkedIn Profile:\\n{linkedln}\\n\\n\"\n",
    "system_prompt += f\"With this contxt, Please chat with the User , always staying in chracter as {name}.\"\n"
   ]
  },
  {
   "cell_type": "code",
   "execution_count": 9,
   "id": "ed506cd1",
   "metadata": {},
   "outputs": [],
   "source": [
    "\n",
    "deepseek = OpenAI(api_key=deepseek_api_key,base_url=\"https://api.deepseek.com/v1\")\n",
    "model_name = \"deepseek-chat\"\n",
    "\n",
    "def chat(message,history):\n",
    "    messages = [{\"role\":\"system\",\"content\":system_prompt}] + history + [{\"role\":\"user\",\"content\":message}]\n",
    "    response = deepseek.chat.completions.create(model=model_name,messages=messages)\n",
    "\n",
    "    return response.choices[0].message.content"
   ]
  },
  {
   "cell_type": "markdown",
   "id": "cff8864b",
   "metadata": {},
   "source": [
    "#Create a Chat space for messaging like original chatbot"
   ]
  },
  {
   "cell_type": "code",
   "execution_count": 10,
   "id": "e35c1105",
   "metadata": {},
   "outputs": [
    {
     "name": "stdout",
     "output_type": "stream",
     "text": [
      "* Running on local URL:  http://127.0.0.1:7862\n",
      "\n",
      "Could not create share link. Please check your internet connection or our status page: https://status.gradio.app.\n"
     ]
    },
    {
     "data": {
      "text/html": [
       "<div><iframe src=\"http://127.0.0.1:7862/\" width=\"100%\" height=\"500\" allow=\"autoplay; camera; microphone; clipboard-read; clipboard-write;\" frameborder=\"0\" allowfullscreen></iframe></div>"
      ],
      "text/plain": [
       "<IPython.core.display.HTML object>"
      ]
     },
     "metadata": {},
     "output_type": "display_data"
    },
    {
     "data": {
      "text/plain": []
     },
     "execution_count": 10,
     "metadata": {},
     "output_type": "execute_result"
    }
   ],
   "source": [
    "gr.ChatInterface(chat,type=\"messages\").launch(share=True)"
   ]
  },
  {
   "cell_type": "code",
   "execution_count": null,
   "id": "d40bff19",
   "metadata": {},
   "outputs": [],
   "source": []
  },
  {
   "cell_type": "code",
   "execution_count": null,
   "id": "5f8ba59c",
   "metadata": {},
   "outputs": [],
   "source": []
  },
  {
   "cell_type": "code",
   "execution_count": null,
   "id": "d79ed0d8",
   "metadata": {},
   "outputs": [],
   "source": []
  }
 ],
 "metadata": {
  "kernelspec": {
   "display_name": ".venv",
   "language": "python",
   "name": "python3"
  },
  "language_info": {
   "codemirror_mode": {
    "name": "ipython",
    "version": 3
   },
   "file_extension": ".py",
   "mimetype": "text/x-python",
   "name": "python",
   "nbconvert_exporter": "python",
   "pygments_lexer": "ipython3",
   "version": "3.12.11"
  }
 },
 "nbformat": 4,
 "nbformat_minor": 5
}
