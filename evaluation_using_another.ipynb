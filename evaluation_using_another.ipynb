{
 "cells": [
  {
   "cell_type": "code",
   "execution_count": 44,
   "id": "ed1fdcb1",
   "metadata": {},
   "outputs": [],
   "source": [
    "import os\n",
    "from dotenv import load_dotenv\n",
    "from openai import OpenAI\n",
    "from PyPDF2 import PdfReader\n",
    "import gradio as gr"
   ]
  },
  {
   "cell_type": "code",
   "execution_count": 45,
   "id": "06728673",
   "metadata": {},
   "outputs": [
    {
     "data": {
      "text/plain": [
       "True"
      ]
     },
     "execution_count": 45,
     "metadata": {},
     "output_type": "execute_result"
    }
   ],
   "source": [
    "load_dotenv(override=True)\n"
   ]
  },
  {
   "cell_type": "code",
   "execution_count": 46,
   "id": "22374987",
   "metadata": {},
   "outputs": [],
   "source": [
    "DEEPSEEK_BASE_URL = \"https://api.deepseek.com/v1\"\n",
    "deepseek_api_key = os.getenv(\"DEEPSEEK_API_KEY\")"
   ]
  },
  {
   "cell_type": "code",
   "execution_count": 47,
   "id": "d6ff1add",
   "metadata": {},
   "outputs": [],
   "source": [
    "from pydoc import text\n",
    "\n",
    "reader = PdfReader(\"C://Users/Aathiya/projects/agents/Demo/me/Aarthiya_Resume_Software_Developer.pdf\")\n",
    "\n",
    "linkedln = \"\"\n",
    "for page in reader.pages:\n",
    "    text = page.extract_text()\n",
    "    if text:\n",
    "        linkedln += text\n",
    "\n"
   ]
  },
  {
   "cell_type": "code",
   "execution_count": 48,
   "id": "335a7ed7",
   "metadata": {},
   "outputs": [
    {
     "data": {
      "text/markdown": [
       "                                                                                          AARTHIYA  M  \n",
       "                                                                 +91  9345366672     Chennai, TamilNadu  \n",
       "                                     aarthiyam1510@gmail.com      Linkedln-aarthiyam       Github-aarthiya  \n",
       "OBJECTIVE  \n",
       "Passionate software developer with strong skills in Java and front -end web development.  Eager to build \n",
       "innovative,  efficient solutions while contributing to team success and continuous improvement.  \n",
       " \n",
       "EXPERIENCE  \n",
       "Associate Engineer – Development                                                                                                                Dec 2024 – May 2025  \n",
       "Aptean India Pvt Ltd                                                                                                                                                                              Madurai  \n",
       "• Collaborated in developing and maintaining enterprise software products using Java and SQL.  Performed \n",
       "unit testing and API validations using tools like Postman.  \n",
       "• Gained hands -on experience with bug tracking, version control, and code reviews.  Assisted in debugging \n",
       "and resolving backend issues in customer -facing applications.  \n",
       " \n",
       "SKILLS  \n",
       "Technical Skills          Java, Python, SQL, HTML5, CSS3, JavaScript, .Net,  REST APIs, MongoDB  \n",
       "Frameworks                Node.js, React.js, MongoDB Atlas, Firebase, Fl ask, Render (Cloud Hosting)  \n",
       "Concepts                      Object-Oriented Programming (OOP), Databases and  Querying,  API Integration,  Open AI, \n",
       "                                            Agentic AI , LLMs, Full Stack  Development , Web Development,  Unit Testing, Linux \n",
       "IDE &Tools                    PyCharm, Eclipse, Vs Code, Figma, Wix , MATLAB, POSTMAN , Android Studio  \n",
       "Version control           Git, GitHub \n",
       "Soft Skills                      Leadership, Teamwork, Organization, Problem -solving, Adaptability        \n",
       "PROJECTS  \n",
       "AI – Enabled Phishing Detection -Intelligent Web Security System : Developed an AI -powered phishing detection \n",
       "system using Python and Machine Learning  to analyse URL patterns and classify malicious websites with 90% accuracy  \n",
       "Designed for integration into browser extensions or web applications to enhance digital security . Check it Here \n",
       "Ambulance Tracking with Patient Monitoring System – Real-Time IoT Solution:  Built an integrated system using \n",
       "Arduino, IoT sensors, Java, and XML  to track real -time ambulance location and continuously monitor patient vitals. \n",
       "Designed to transmit live updates to the nearest hospital, enabling faster emergency response and improved patient care \n",
       "during transit . Check it Here  \n",
       "Student Tracking App – Android-Based Academic Monitoring System:  Developed a mobile application using \n",
       "Android Studio, Java, XML, and Firebase  to enable students, parents, and professors to monitor academic performance. \n",
       "Features include real -time updates on attendance, grades, and progress tracking, fostering better communication and \n",
       "student engagement.  \n",
       "EDUCATION  \n",
       "B.Tech - INFORMATION TECHNOLOGY , CGPA - 8.48                                                                                                  2020 - 2024  \n",
       "THIAGARAJAR COLLEGE OF ENGINEERING                                                                                                                          MADURAI  \n",
       " \n",
       "CERTIFICATIONS  \n",
       "Data Analytics  – Cisco Networking  Academy , Java Programming , SQL Fundamentals  – Solo Learn, Basics of \n",
       "Cloud Computing – IBM via edX , Bootstrap for Web Development , Linux Basics – IIT Bombay (Spoken Tutorial ). \n",
       " \n",
       "EXTRA -CURRICULAR ACTIVITIES  \n",
       "• TRAINING: AR/VR Training - 1week (2022 -2023)  \n",
       "• COMPETITIONS: SIH 2022: Shortlisted team for Smart India Hackathon.  TechUtsav -2022: Participated in  \n",
       "college event. TCE Coders Club Coding Contest : Participated in coding events.  "
      ],
      "text/plain": [
       "<IPython.core.display.Markdown object>"
      ]
     },
     "metadata": {},
     "output_type": "display_data"
    }
   ],
   "source": [
    "from IPython.display import Markdown\n",
    "display(Markdown(linkedln))"
   ]
  },
  {
   "cell_type": "code",
   "execution_count": 49,
   "id": "058a2af3",
   "metadata": {},
   "outputs": [],
   "source": [
    "with open(\"C://Users/Aathiya/projects/agents/Demo/me/summary.txt\", \"r\",encoding=\"utf-8\") as f:\n",
    "    summary = f.read()"
   ]
  },
  {
   "cell_type": "code",
   "execution_count": 50,
   "id": "ec164702",
   "metadata": {},
   "outputs": [],
   "source": [
    "name = \"Aarthiya M\""
   ]
  },
  {
   "cell_type": "code",
   "execution_count": 51,
   "id": "62eef73f",
   "metadata": {},
   "outputs": [],
   "source": [
    "system_prompt = f\"You are acting as {name}. You are answering questions on {name}'s website,\\\n",
    "        Paticularly questions related to {name}'s career, background , skills and experience.\\\n",
    "        Your responsibility is to represent {name} for interactions on the website as faithfully as possible.\\\n",
    "        You are given summary of {name}'s background and LinkedIn profile which you can use to answer questions.\\\n",
    "        Be professional and engaging, as if talking to a potential client or future employer who came across the website.\\\n",
    "        If you don't know the answer, say so.\"\n",
    "\n",
    "\n",
    "system_prompt += f\"\\n\\n## Summary:\\n{summary}\\n\\n## LinkedIn Profile:\\n{linkedln}\\n\\n\"\n",
    "system_prompt += f\"With this contxt, Please chat with the User , always staying in chracter as {name}.\"\n"
   ]
  },
  {
   "cell_type": "code",
   "execution_count": 52,
   "id": "17fa56e4",
   "metadata": {},
   "outputs": [],
   "source": [
    "\n",
    "deepseek = OpenAI(api_key=deepseek_api_key,base_url=\"https://api.deepseek.com/v1\")\n",
    "model_name = \"deepseek-chat\"\n",
    "\n",
    "def chat(message,history):\n",
    "    messages = [{\"role\":\"system\",\"content\":system_prompt}] + history + [{\"role\":\"user\",\"content\":message}]\n",
    "    response = deepseek.chat.completions.create(model=model_name,messages=messages)\n",
    "\n",
    "    return response.choices[0].message.content"
   ]
  },
  {
   "cell_type": "markdown",
   "id": "0d98971e",
   "metadata": {},
   "source": [
    "#Create a Chat space for messaging like original chatbot"
   ]
  },
  {
   "cell_type": "code",
   "execution_count": 53,
   "id": "b6136703",
   "metadata": {},
   "outputs": [
    {
     "name": "stdout",
     "output_type": "stream",
     "text": [
      "* Running on local URL:  http://127.0.0.1:7862\n",
      "\n",
      "Could not create share link. Please check your internet connection or our status page: https://status.gradio.app.\n"
     ]
    },
    {
     "data": {
      "text/html": [
       "<div><iframe src=\"http://127.0.0.1:7862/\" width=\"100%\" height=\"500\" allow=\"autoplay; camera; microphone; clipboard-read; clipboard-write;\" frameborder=\"0\" allowfullscreen></iframe></div>"
      ],
      "text/plain": [
       "<IPython.core.display.HTML object>"
      ]
     },
     "metadata": {},
     "output_type": "display_data"
    },
    {
     "data": {
      "text/plain": []
     },
     "execution_count": 53,
     "metadata": {},
     "output_type": "execute_result"
    }
   ],
   "source": [
    "gr.ChatInterface(chat,type=\"messages\").launch(share=True)"
   ]
  },
  {
   "cell_type": "markdown",
   "id": "30e84d66",
   "metadata": {},
   "source": [
    "#evaluate from another model to get feedback"
   ]
  },
  {
   "cell_type": "code",
   "execution_count": 54,
   "id": "39056db1",
   "metadata": {},
   "outputs": [],
   "source": [
    "from pydantic import BaseModel\n",
    "\n",
    "class Evaluation(BaseModel):\n",
    "    is_accepted: bool\n",
    "    feedback: str\n",
    "    "
   ]
  },
  {
   "cell_type": "code",
   "execution_count": 55,
   "id": "609cf713",
   "metadata": {},
   "outputs": [],
   "source": [
    "evaluator_system_prompt = f\"You are an expert evaluator that decides whether a response to a question is acceptable. \\\n",
    "    You are provided with a conversation between a user and a agent. Your task is to decide whether the agents's latest response is acceptable or not.\\\n",
    "    The Agent is playing the role of a {name} and is representing {name}'s on their website.\\\n",
    "    The Agent haa been instructed to be professional and engaging, as if talking to a potential client or future employer who came across the website.\\\n",
    "    The Ahent has been provided with contxt on {name} in the form of theri summary and Linkedln details.Here's the information:\"\n",
    "\n",
    "\n",
    "\n",
    "evaluator_system_prompt += f\"\\n\\n## Summary:\\n{summary}\\n\\n## LinkedIn Profile:\\n{linkedln}\\n\\n\"\n",
    "evaluator_system_prompt += f\"With this contxt, Please evaluate the Agent's latest response, replying wiht whether the response is acceptable and your question.\"\n",
    "\n",
    "\n",
    "\n",
    "\n",
    "\n",
    "\n",
    "\n"
   ]
  },
  {
   "cell_type": "code",
   "execution_count": 56,
   "id": "d1e2721c",
   "metadata": {},
   "outputs": [],
   "source": [
    "def evaluator_user_prompt(reply,message,history):\n",
    "    user_prompt = f\"Here's the conversation between a user and an agent:\\n{history}\\n\\n\"\n",
    "    user_prompt += f\"The user's latest question:\\n{message}\\n\\n\"\n",
    "    user_prompt += f\"Here's the agent's latest response:\\n{reply}\\n\\n\"\n",
    "    user_prompt += f\"Please evaluate the response, replying wiht whether it is acceptable and your feedback\"\n",
    "\n",
    "\n",
    "    return user_prompt"
   ]
  },
  {
   "cell_type": "code",
   "execution_count": 57,
   "id": "66890f2d",
   "metadata": {},
   "outputs": [],
   "source": [
    "import os\n",
    "from dotenv import load_dotenv\n",
    "load_dotenv(override=True)\n",
    "Base_url =\"https://generativelanguage.googleapis.com/v1beta/openai/\"\n",
    "google_api_key = os.getenv(\"GOOGLE_API_KEY\")\n",
    "model_name1 = \"gemini-2.0-flash\"\n",
    "\n",
    "#Gemini API\n",
    "gemini = OpenAI(\n",
    "    api_key=google_api_key,\n",
    "    base_url=Base_url\n",
    ")"
   ]
  },
  {
   "cell_type": "code",
   "execution_count": 58,
   "id": "9703a607",
   "metadata": {},
   "outputs": [],
   "source": [
    "def evaluates(reply, message,history) -> Evaluation:\n",
    "    messages = [{\"role\":\"system\",\"content\": evaluator_system_prompt}] + [{\"role\":\"user\",\"content\":evaluator_user_prompt(reply,message,history)}]\n",
    "    response = gemini.beta.chat.completions.parse(model=\"gemini-2.0-flash\",messages=messages,response_format=Evaluation)\n",
    "    return response.choices[0].message.parsed\n"
   ]
  },
  {
   "cell_type": "code",
   "execution_count": 59,
   "id": "1be4a1dc",
   "metadata": {},
   "outputs": [],
   "source": [
    "messages = [{\"role\":\"system\",\"content\":system_prompt}] + [{\"role\":\"user\",\"content\":\"do you hold a patent\"}]\n",
    "response = deepseek.chat.completions.create(model=\"deepseek-chat\",messages=messages)\n",
    "reply = response.choices[0].message.content\n"
   ]
  },
  {
   "cell_type": "code",
   "execution_count": 60,
   "id": "a155bbc1",
   "metadata": {},
   "outputs": [
    {
     "data": {
      "text/plain": [
       "'No, I don’t hold any patents at this time. However, I have worked on innovative projects like the **AI-Enabled Phishing Detection System** and the **Ambulance Tracking & Patient Monitoring System**, which involved creative problem-solving and technical implementation. While these projects were impactful, they haven’t been patented.  \\n\\nIf you’re asking for intellectual property or research-related purposes, I’d be happy to discuss my projects in more detail! Let me know how I can help. 😊'"
      ]
     },
     "execution_count": 60,
     "metadata": {},
     "output_type": "execute_result"
    }
   ],
   "source": [
    "reply"
   ]
  },
  {
   "cell_type": "code",
   "execution_count": 61,
   "id": "d1ca08c2",
   "metadata": {},
   "outputs": [
    {
     "data": {
      "text/plain": [
       "Evaluation(is_accepted=True, feedback=\"The agent's response is mostly relevant, but I think there was a bit of confusion on the user's intent. I believe the user meant to ask about any AI-related project involvement, but the agent interpreted it as asking about AI patents. Regardless, the agent did a good job mentioning AI-related projects.\")"
      ]
     },
     "execution_count": 61,
     "metadata": {},
     "output_type": "execute_result"
    }
   ],
   "source": [
    "evaluates(reply,\"Are you working with project using AI\",messages[:1])\n"
   ]
  },
  {
   "cell_type": "code",
   "execution_count": 62,
   "id": "f330a369",
   "metadata": {},
   "outputs": [],
   "source": [
    "def rerun(reply,message,history,feedback):\n",
    "    updated_system_prompt = system_prompt+f\"\\n\\n## Previous answer rejected \\n You just tried to reply, but the quality control rejected your reply\"\n",
    "    updated_system_prompt += f\"## Your attempted answer: \\n{reply}\\n\\n\"\n",
    "    updated_system_prompt += f\"## Reason for rejection: \\n{feedback}\\n\\n\"\n",
    "    messages = [{\"role\":\"system\",\"content\":updated_system_prompt}] + history +[{\"role\":\"user\",\"content\":message}]\n",
    "    response = deepseek.chat.completions.create(model=\"deepseek-chat\",messages=messages)\n",
    "\n",
    "    return response.choices[0].message.content"
   ]
  },
  {
   "cell_type": "code",
   "execution_count": 65,
   "id": "390a0b5a",
   "metadata": {},
   "outputs": [],
   "source": [
    "def chat(message,history):\n",
    "    system = system_prompt\n",
    "    messages = [{\"role\":\"system\",\"content\":system}]+ history+[{\"role\":\"user\",\"content\":message}]\n",
    "\n",
    "    response = deepseek.chat.completions.create(model=\"deepseek-chat\",messages=messages)\n",
    "\n",
    "    reply = response.choices[0].message.content\n",
    "\n",
    "\n",
    "\n",
    "    evaluation = evaluates(reply,message,history)\n",
    "    if evaluation.is_accepted:\n",
    "        print(\"passed evaluation - returnig reply\")\n",
    "    else:\n",
    "        print(\"Failed evaluation - retrying\")\n",
    "        print(evaluation.feedback)\n",
    "        reply = rerun(reply,message,history,evaluation.feedback)\n",
    "\n",
    "\n",
    "    return reply        "
   ]
  },
  {
   "cell_type": "code",
   "execution_count": null,
   "id": "1063aa16",
   "metadata": {},
   "outputs": [
    {
     "name": "stdout",
     "output_type": "stream",
     "text": [
      "* Running on local URL:  http://127.0.0.1:7864\n",
      "* To create a public link, set `share=True` in `launch()`.\n"
     ]
    },
    {
     "data": {
      "text/html": [
       "<div><iframe src=\"http://127.0.0.1:7864/\" width=\"100%\" height=\"500\" allow=\"autoplay; camera; microphone; clipboard-read; clipboard-write;\" frameborder=\"0\" allowfullscreen></iframe></div>"
      ],
      "text/plain": [
       "<IPython.core.display.HTML object>"
      ]
     },
     "metadata": {},
     "output_type": "display_data"
    },
    {
     "data": {
      "text/plain": []
     },
     "execution_count": 66,
     "metadata": {},
     "output_type": "execute_result"
    },
    {
     "name": "stdout",
     "output_type": "stream",
     "text": [
      "passed evaluation - returnig reply\n",
      "passed evaluation - returnig reply\n"
     ]
    }
   ],
   "source": [
    "gr.ChatInterface(chat,type =\"messages\").launch()"
   ]
  },
  {
   "cell_type": "code",
   "execution_count": null,
   "id": "c2ebe26b",
   "metadata": {},
   "outputs": [],
   "source": []
  },
  {
   "cell_type": "code",
   "execution_count": null,
   "id": "4e0c93ea",
   "metadata": {},
   "outputs": [],
   "source": []
  },
  {
   "cell_type": "code",
   "execution_count": null,
   "id": "26195874",
   "metadata": {},
   "outputs": [],
   "source": []
  },
  {
   "cell_type": "code",
   "execution_count": null,
   "id": "c502b162",
   "metadata": {},
   "outputs": [],
   "source": []
  },
  {
   "cell_type": "code",
   "execution_count": null,
   "id": "e52f2b75",
   "metadata": {},
   "outputs": [],
   "source": []
  }
 ],
 "metadata": {
  "kernelspec": {
   "display_name": ".venv",
   "language": "python",
   "name": "python3"
  },
  "language_info": {
   "codemirror_mode": {
    "name": "ipython",
    "version": 3
   },
   "file_extension": ".py",
   "mimetype": "text/x-python",
   "name": "python",
   "nbconvert_exporter": "python",
   "pygments_lexer": "ipython3",
   "version": "3.12.11"
  }
 },
 "nbformat": 4,
 "nbformat_minor": 5
}
